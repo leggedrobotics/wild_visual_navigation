{
 "cells": [
  {
   "cell_type": "code",
   "execution_count": null,
   "metadata": {},
   "outputs": [],
   "source": [
    "import wild_visual_navigation.visu.paper_colors as pc\n",
    "import torch\n",
    "import os\n",
    "import numpy as np\n",
    "import matplotlib.pyplot as plt\n",
    "from pathlib import Path\n",
    "\n",
    "%matplotlib inline\n",
    "\n",
    "WORKING_DIR = \"/home/matias/git_rsl/wild_visual_navigation/results/learning/2023-01-21T15-39-12_test\""
   ]
  },
  {
   "cell_type": "code",
   "execution_count": null,
   "metadata": {},
   "outputs": [],
   "source": [
    "samples_directory = Path(os.path.join(WORKING_DIR, \"confidence_generator\"))\n",
    "\n",
    "# Check confidence generator folder\n",
    "if not samples_directory.exists():\n",
    "    raise FileNotFoundError(f\"Confidence generator path selected does not exists: {confidence_generator_path}\")\n",
    "\n",
    "# Load all the .pt files\n",
    "steps = []\n",
    "all_samples = []\n",
    "positive_samples = []\n",
    "gaussian_mean = []\n",
    "gaussian_std = []\n",
    "\n",
    "for s in sorted(samples_directory.rglob(\"*.pt\")):\n",
    "    data = torch.load(s)\n",
    "\n",
    "    # Get step\n",
    "    step = int(s.stem.replace(\"samples_\", \"\"))\n",
    "\n",
    "    # Save step\n",
    "    steps.append(step)\n",
    "    all_samples.append(data[\"x\"].numpy())\n",
    "    positive_samples.append(data[\"x_positive\"].numpy())\n",
    "    gaussian_mean.append(data[\"mean\"].item())\n",
    "    gaussian_std.append(data[\"std\"].item())\n",
    "\n",
    "steps = np.asarray(steps)\n",
    "gaussian_mean = np.asarray(gaussian_mean)\n",
    "gaussian_std = np.asarray(gaussian_std)"
   ]
  },
  {
   "cell_type": "code",
   "execution_count": null,
   "metadata": {},
   "outputs": [],
   "source": [
    "import matplotlib.pyplot as plt\n",
    "import numpy as np\n",
    "from datetime import datetime\n",
    "\n",
    "N_steps = len(steps)\n",
    "N_skip = 5\n",
    "fig, axs = plt.subplots(N_steps, constrained_layout=True, figsize=(5, N_steps * 2))\n",
    "\n",
    "for s in range(N_steps):\n",
    "    N = 30\n",
    "    bins = np.linspace(0, 15, N)\n",
    "    all_hist = np.histogram(all_samples[s], bins)\n",
    "    pos_hist = np.histogram(positive_samples[s], bins)\n",
    "\n",
    "    axs[s].bar(all_hist[1][:-1], all_hist[0] / all_hist[0].max(), alpha=0.5, color=\"k\", width=0.4)\n",
    "    axs[s].bar(pos_hist[1][:-1], pos_hist[0] / pos_hist[0].max(), alpha=0.5, color=\"b\", width=0.4)\n",
    "    axs[s].plot(bins, np.exp(-((bins - gaussian_mean[s]) ** 2) / (2 * gaussian_std[s] ** 2)), color=\"b\", linewidth=2)"
   ]
  },
  {
   "cell_type": "code",
   "execution_count": null,
   "metadata": {},
   "outputs": [],
   "source": [
    "# Plot distribution over time\n",
    "# samples as scatterplot\n",
    "# Positive Gaussian as GP (mean + std)\n",
    "\n",
    "# Plot stuff\n",
    "fig_scale = 0.5\n",
    "fig, axs = plt.subplots(1, constrained_layout=True, figsize=(fig_scale * 13, fig_scale * 9))\n",
    "\n",
    "for s in range(len(steps)):\n",
    "    step = steps[s]\n",
    "\n",
    "    N = len(all_samples[s])\n",
    "    axs.scatter(\n",
    "        step * np.ones(N), all_samples[s], color=(0.2, 0.2, 0.2), alpha=0.05, linewidths=0\n",
    "    )  # axs.set_xlabel(\"Steps\")\n",
    "\n",
    "    M = len(positive_samples[s])\n",
    "    axs.scatter(\n",
    "        step * np.ones(M), positive_samples[s], color=pc.paper_colors_rgb_f[\"blue\"], alpha=0.3, linewidths=0\n",
    "    )  # label=\"positive_samples\"\n",
    "\n",
    "std_factor = 1.5\n",
    "axs.fill_between(\n",
    "    steps,\n",
    "    gaussian_mean * 0,\n",
    "    gaussian_mean + std_factor * gaussian_std,\n",
    "    color=pc.darken(pc.paper_colors_rgb_f[\"blue\"], 0.3),\n",
    "    alpha=0.2,\n",
    "    linewidth=0,\n",
    ")\n",
    "axs.plot(\n",
    "    steps,\n",
    "    gaussian_mean,\n",
    "    label=\"Gaussian approximation\",\n",
    "    color=pc.darken(pc.paper_colors_rgb_f[\"blue\"], 0.3),\n",
    "    linewidth=2,\n",
    ")\n",
    "axs.set_xlabel(\"Steps\")\n",
    "axs.set_ylabel(\"Reconstruction loss\")\n",
    "axs.legend()"
   ]
  },
  {
   "cell_type": "code",
   "execution_count": null,
   "metadata": {},
   "outputs": [],
   "source": []
  }
 ],
 "metadata": {
  "kernelspec": {
   "display_name": "wvn",
   "language": "python",
   "name": "python3"
  },
  "language_info": {
   "codemirror_mode": {
    "name": "ipython",
    "version": 3
   },
   "file_extension": ".py",
   "mimetype": "text/x-python",
   "name": "python",
   "nbconvert_exporter": "python",
   "pygments_lexer": "ipython3",
   "version": "3.8.13"
  },
  "orig_nbformat": 4,
  "vscode": {
   "interpreter": {
    "hash": "afa7ba36e378b18fb9d9622f0c65b59a17b022d718aa019edc90e2573a229775"
   }
  }
 },
 "nbformat": 4,
 "nbformat_minor": 2
}
