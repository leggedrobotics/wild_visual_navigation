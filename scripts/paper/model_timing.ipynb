{
 "cells": [
  {
   "cell_type": "code",
   "execution_count": null,
   "id": "dcd980a3",
   "metadata": {},
   "outputs": [],
   "source": [
    "# %matplotlib notebook\n",
    "\n",
    "from wild_visual_navigation import WVN_ROOT_DIR\n",
    "import os\n",
    "import seaborn as sns\n",
    "import matplotlib.pyplot as plt\n",
    "import numpy as np\n",
    "import pandas as pd\n",
    "import pickle\n",
    "\n",
    "folder = \"time_extractor\"\n",
    "ws = os.environ[\"ENV_WORKSTATION_NAME\"]\n",
    "p = os.path.join(WVN_ROOT_DIR, f\"results/ablations/{folder}_ablation_{ws}/{folder}_ablation_test_results.pkl\")\n",
    "\n",
    "with open(p, \"rb\") as f:\n",
    "    res = pickle.load(f)\n",
    "\n",
    "import scipy\n",
    "import pandas as pd\n",
    "import pickle\n",
    "import copy\n",
    "\n",
    "data = {\n",
    "    \"cfg_name\": [],\n",
    "    \"runtime_mean\": [],\n",
    "    \"runtime_std\": [],\n",
    "    \"runtime_warmup_mean\": [],\n",
    "    \"runtime_warmup_std\": [],\n",
    "    \"parameter\": [],\n",
    "}\n",
    "\n",
    "for name, res in res.items():\n",
    "    data[\"cfg_name\"].append(name)\n",
    "    a = np.array(res[\"times_eval\"])\n",
    "    data[\"runtime_mean\"].append(a.mean())\n",
    "    data[\"runtime_std\"].append(a.std())\n",
    "    a = np.array(res[\"times_warmup\"])\n",
    "    data[\"runtime_warmup_mean\"].append(a.mean())\n",
    "    data[\"runtime_warmup_std\"].append(a.std())\n",
    "    data[\"parameter\"].append(res[\"parameter\"])\n",
    "\n",
    "df = pd.DataFrame.from_dict(data)\n",
    "df"
   ]
  }
 ],
 "metadata": {
  "kernelspec": {
   "display_name": "wvn",
   "language": "python",
   "name": "wvn"
  },
  "language_info": {
   "codemirror_mode": {
    "name": "ipython",
    "version": 3
   },
   "file_extension": ".py",
   "mimetype": "text/x-python",
   "name": "python",
   "nbconvert_exporter": "python",
   "pygments_lexer": "ipython3",
   "version": "3.8.13"
  }
 },
 "nbformat": 4,
 "nbformat_minor": 5
}
