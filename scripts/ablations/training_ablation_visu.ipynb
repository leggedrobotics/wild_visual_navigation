{
 "cells": [
  {
   "cell_type": "code",
   "execution_count": null,
   "id": "d0b50d34",
   "metadata": {},
   "outputs": [],
   "source": [
    "from wild_visual_navigation import WVN_ROOT_DIR\n",
    "import os\n",
    "import seaborn as sns\n",
    "import matplotlib.pyplot as plt\n",
    "import numpy as np\n",
    "import pandas as pd\n",
    "import pickle\n",
    "\n",
    "p = os.path.join(WVN_ROOT_DIR, \"scripts/ablations/network_ablation/network_ablation_test_results_tmp.pkl\")\n",
    "\n",
    "with open(p, \"rb\") as f:\n",
    "    res = pickle.load(f)"
   ]
  },
  {
   "cell_type": "code",
   "execution_count": null,
   "id": "c55ba28a",
   "metadata": {},
   "outputs": [],
   "source": [
    "import scipy\n",
    "import pandas as pd\n",
    "import pickle\n",
    "import copy\n",
    "\n",
    "data = { \n",
    "        \"cfg_name\": [],\n",
    "        \"train_scene\": [],\n",
    "        \"test_scene\": [],\n",
    "        'test_auroc_gt': [] ,\n",
    "        'test_auroc_prop': []\n",
    "}\n",
    "\n",
    "for train_scene_name, scene_data in res.items():\n",
    "    for config_path, config_data in scene_data.items():\n",
    "        name = config_path.split(\"/\")[-1][:-5]\n",
    "        for run_nr, run_data in config_data.items():\n",
    "            for test_scene_name, test_scene_data in run_data.items():\n",
    "                data[\"cfg_name\"].append(name)\n",
    "                data[\"train_scene\"].append(train_scene_name)\n",
    "                data[\"test_scene\"].append(test_scene_name)\n",
    "                data[\"test_auroc_gt\"].append(test_scene_data[\"test_auroc_gt_image\"])\n",
    "                data[\"test_auroc_prop\"].append(test_scene_data[\"test_auroc_proprioceptive_image\"])\n",
    "                \n",
    "df = pd.DataFrame.from_dict(data)\n",
    "df"
   ]
  },
  {
   "cell_type": "code",
   "execution_count": null,
   "id": "cb951a50",
   "metadata": {},
   "outputs": [],
   "source": [
    "df = df.sort_values(\"test_auroc_gt\", ascending=False)\n",
    "df[(df[\"train_scene\"].str.find(\"forest\") != -1)]"
   ]
  },
  {
   "cell_type": "code",
   "execution_count": null,
   "id": "08841994",
   "metadata": {},
   "outputs": [],
   "source": [
    "df = df.sort_values(\"test_auroc_gt\", ascending=False)\n",
    "df[(df[\"train_scene\"].str.find(\"forest\") != -1)* (df[\"test_scene\"].str.find(\"forest\") != -1)]"
   ]
  }
 ],
 "metadata": {
  "kernelspec": {
   "display_name": "wvn",
   "language": "python",
   "name": "wvn"
  },
  "language_info": {
   "codemirror_mode": {
    "name": "ipython",
    "version": 3
   },
   "file_extension": ".py",
   "mimetype": "text/x-python",
   "name": "python",
   "nbconvert_exporter": "python",
   "pygments_lexer": "ipython3",
   "version": "3.8.13 | packaged by conda-forge | (default, Mar 25 2022, 06:04:10) \n[GCC 10.3.0]"
  }
 },
 "nbformat": 4,
 "nbformat_minor": 5
}
